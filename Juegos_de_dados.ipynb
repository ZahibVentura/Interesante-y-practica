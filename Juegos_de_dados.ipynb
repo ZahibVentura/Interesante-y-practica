{
  "nbformat": 4,
  "nbformat_minor": 0,
  "metadata": {
    "colab": {
      "provenance": [],
      "authorship_tag": "ABX9TyOdUB+ff0Hz1z7tJF/GAj92",
      "include_colab_link": true
    },
    "kernelspec": {
      "name": "python3",
      "display_name": "Python 3"
    },
    "language_info": {
      "name": "python"
    }
  },
  "cells": [
    {
      "cell_type": "markdown",
      "metadata": {
        "id": "view-in-github",
        "colab_type": "text"
      },
      "source": [
        "<a href=\"https://colab.research.google.com/github/ZahibVentura/Interesante-y-practica/blob/main/Juegos_de_dados.ipynb\" target=\"_parent\"><img src=\"https://colab.research.google.com/assets/colab-badge.svg\" alt=\"Open In Colab\"/></a>"
      ]
    },
    {
      "cell_type": "markdown",
      "source": [
        "### Juego 1\n",
        "Se arroja un dado, el tuyo, y el número que salga es tu ganancia en pesos. Luego, se arroja un segundo dado, el mío, y el número que salga será tu pérdida. Por ejemplo, si en tu dado sale 6 y en el mío 3, habrás ganado 3 pesos; sin embargo, si en tu dado cae 2 y en el mío 6, yo habré ganado 4 pesos. Observa que los valores posibles van de −5 a 5."
      ],
      "metadata": {
        "id": "W0VJYo-uVcZm"
      }
    },
    {
      "cell_type": "code",
      "execution_count": 105,
      "metadata": {
        "id": "B-59KY--VNyl"
      },
      "outputs": [],
      "source": [
        "import random as rd #importamos las librerias a utilizar\n",
        "import matplotlib.pyplot as plt\n",
        "import numpy as np"
      ]
    },
    {
      "cell_type": "code",
      "source": [
        "#Creamos nuestro dado\n",
        "def dado():\n",
        "    dado = rd.randint(1,6)\n",
        "    return dado"
      ],
      "metadata": {
        "id": "mAJHKoj_Vt3a"
      },
      "execution_count": 106,
      "outputs": []
    },
    {
      "cell_type": "code",
      "source": [
        "n = 10000 #definimos el número de iteraciones\n",
        "esperado = 0\n",
        "Lista = []\n",
        "\n",
        "#Aplicamos un Monte Carlo basico\n",
        "for i in range(n):\n",
        "    dado1 = dado()\n",
        "    dado2 = dado()\n",
        "    esperado += dado1 - dado2\n",
        "    if i == n-1:\n",
        "      Lista.append(esperado/n)\n",
        "    else:\n",
        "      Lista.append((esperado)/(i+1))\n"
      ],
      "metadata": {
        "id": "KcrWKhF3WGGC"
      },
      "execution_count": 107,
      "outputs": []
    },
    {
      "cell_type": "code",
      "source": [
        "print(\"Valor esperado: \", esperado/n)"
      ],
      "metadata": {
        "colab": {
          "base_uri": "https://localhost:8080/"
        },
        "id": "9nAW7AjNXD3J",
        "outputId": "88bc1599-0e4a-4e5f-c787-ef85071ca2c1"
      },
      "execution_count": 108,
      "outputs": [
        {
          "output_type": "stream",
          "name": "stdout",
          "text": [
            "Valor esperado:  -0.0053\n"
          ]
        }
      ]
    },
    {
      "cell_type": "code",
      "source": [
        "plt.plot(Lista, color = 'k')\n",
        "plt.show()"
      ],
      "metadata": {
        "colab": {
          "base_uri": "https://localhost:8080/",
          "height": 430
        },
        "id": "Qcb5C6JaqSxX",
        "outputId": "bd626da4-a63b-4d58-dbd6-a2e6953836e4"
      },
      "execution_count": 109,
      "outputs": [
        {
          "output_type": "display_data",
          "data": {
            "text/plain": [
              "<Figure size 640x480 with 1 Axes>"
            ],
            "image/png": "[encoded data removed]"
          },
          "metadata": {}
        }
      ]
    },
    {
      "cell_type": "code",
      "source": [
        "\"\"\"media = np.mean(Lista)\n",
        "desviacion = np.std(Lista)\n",
        "\n",
        "plt.axhline(y=media, color='r', linestyle='--') #media\n",
        "plt.axhline(y=media+desviacion, color='b', linestyle='-') #limite superior del intervalo\n",
        "plt.axhline(y=media-desviacion, color='b', linestyle='-') #limite inferior del intervalo\n",
        "plt.plot(Lista, color = 'k')\n",
        "plt.show()\"\"\""
      ],
      "metadata": {
        "colab": {
          "base_uri": "https://localhost:8080/",
          "height": 72
        },
        "id": "KZKwExaBXdSW",
        "outputId": "cf16a55d-7e83-47ff-d595-e9e10f2bf788"
      },
      "execution_count": 110,
      "outputs": [
        {
          "output_type": "execute_result",
          "data": {
            "text/plain": [
              "\"media = np.mean(Lista)\\ndesviacion = np.std(Lista)\\n\\nplt.axhline(y=media, color='r', linestyle='--') #media\\nplt.axhline(y=media+desviacion, color='b', linestyle='-') #limite superior del intervalo\\nplt.axhline(y=media-desviacion, color='b', linestyle='-') #limite inferior del intervalo \\nplt.plot(Lista, color = 'k')\\nplt.show()\""
            ],
            "application/vnd.google.colaboratory.intrinsic+json": {
              "type": "string"
            }
          },
          "metadata": {},
          "execution_count": 110
        }
      ]
    },
    {
      "cell_type": "code",
      "source": [
        "#MonteCarlo mejorado\n",
        "E = 0\n",
        "Lista1 = []\n",
        "for i in range(1,n,1):\n",
        "    dado1 = dado()\n",
        "    dado2 = dado()\n",
        "    if i == 1:\n",
        "      E = dado1 - dado2\n",
        "    else:\n",
        "      E = E + ((dado1 - dado2)-E)/(i+1)\n",
        "    Lista1.append(E)"
      ],
      "metadata": {
        "id": "RT9h-f8ZYubC"
      },
      "execution_count": 111,
      "outputs": []
    },
    {
      "cell_type": "code",
      "source": [
        "print(\"Valor medio: \", Lista1[-1])"
      ],
      "metadata": {
        "colab": {
          "base_uri": "https://localhost:8080/"
        },
        "id": "V0reAB27amPt",
        "outputId": "7b6f2634-5c98-4cf1-88f7-0e49e2df1eb5"
      },
      "execution_count": 112,
      "outputs": [
        {
          "output_type": "stream",
          "name": "stdout",
          "text": [
            "Valor medio:  0.024899999999999874\n"
          ]
        }
      ]
    },
    {
      "cell_type": "code",
      "source": [
        "plt.plot(Lista1)\n",
        "plt.show()"
      ],
      "metadata": {
        "colab": {
          "base_uri": "https://localhost:8080/",
          "height": 430
        },
        "id": "Hx-HLF1daqp9",
        "outputId": "7b59e8f1-6067-4ebf-960e-8a488de21926"
      },
      "execution_count": 113,
      "outputs": [
        {
          "output_type": "display_data",
          "data": {
            "text/plain": [
              "<Figure size 640x480 with 1 Axes>"
            ],
            "image/png": "[encoded data removed]"
          },
          "metadata": {}
        }
      ]
    },
    {
      "cell_type": "markdown",
      "source": [
        "###Juego 2\n",
        " Se arrojan dos dados, tu ganancia será el resultado de restar el puntaje más chico del más grande, o cero en caso de que las caras de los dos dados sean iguales. Observa que los valores posibles van de 0 a 5, es decir, siempre es positivo. Entonces, para que el juego sea justo, yo te pido 2 pesos para arrojar los dados. Por ejemplo, si un dado cae 3 y otro 4, pierdes 1 peso (4-3 = 1, pero debes restar los dos pesos que apostaste para poder jugar); sin embargo, si un dado cae 6 y el otro 1, ganas 3 pesos (6-1-2=3)."
      ],
      "metadata": {
        "id": "x4VKFixYbpQ-"
      }
    },
    {
      "cell_type": "code",
      "source": [
        "precio_jugada = 2 #definimos el precio por jugar\n",
        "\n",
        "Ganacia = []\n",
        "Es = 0\n",
        "#Aplicando MonteCarlo mejorado\n",
        "for i in range(1,n,1):\n",
        "  d1 = dado()\n",
        "  d2 = dado()\n",
        "  if i == 1:\n",
        "    if d1 >= d2:\n",
        "      Es = d1 - d2 - precio_jugada\n",
        "    else:\n",
        "      Es = d2 - d1 - precio_jugada    #definimos las condiciones de los resultado\n",
        "  else:\n",
        "    if d1 >= d2:\n",
        "      Es = Es + ((d1 - d2 - precio_jugada)-Es)/(i+1)\n",
        "    else:\n",
        "      Es = Es + ((d2 - d1 - precio_jugada)-Es)/(i+1)\n",
        "  Ganacia.append(Es)"
      ],
      "metadata": {
        "id": "7R5122lNcFyI"
      },
      "execution_count": 114,
      "outputs": []
    },
    {
      "cell_type": "code",
      "source": [
        "print(\"Valor esperado: \", Ganacia[-1])"
      ],
      "metadata": {
        "colab": {
          "base_uri": "https://localhost:8080/"
        },
        "id": "O7fZoXZBdTtF",
        "outputId": "5a96c8ee-597b-4208-a16a-a7c4161e6033"
      },
      "execution_count": 115,
      "outputs": [
        {
          "output_type": "stream",
          "name": "stdout",
          "text": [
            "Valor esperado:  -0.04629999999999985\n"
          ]
        }
      ]
    },
    {
      "cell_type": "code",
      "source": [
        "plt.plot(Ganacia, color = 'r')\n",
        "plt.show()"
      ],
      "metadata": {
        "colab": {
          "base_uri": "https://localhost:8080/",
          "height": 430
        },
        "id": "NlMF2g3vdXzg",
        "outputId": "e208eb52-a8aa-4515-f6fc-ec1dfee61fc1"
      },
      "execution_count": 116,
      "outputs": [
        {
          "output_type": "display_data",
          "data": {
            "text/plain": [
              "<Figure size 640x480 with 1 Axes>"
            ],
            "image/png": "[encoded data removed]"
          },
          "metadata": {}
        }
      ]
    },
    {
      "cell_type": "markdown",
      "source": [
        "Notemos que en los dos juego obtenemos un valor esperado de 0, con una pequeña diferencia en el juego 2, ya que este parece ser de -0.05, será una diferencia de apenas centavos, por lo que la persona podria ser indiferente ante este valor y jugar cualquiera de los dos, pero si para él o ella son importantes esos centavos entonces juegue el juego 1 o no jugar."
      ],
      "metadata": {
        "id": "iJ_PTsbkr4sy"
      }
    }
  ]
}