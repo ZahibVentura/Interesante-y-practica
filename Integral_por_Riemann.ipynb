{
  "nbformat": 4,
  "nbformat_minor": 0,
  "metadata": {
    "colab": {
      "provenance": [],
      "authorship_tag": "ABX9TyMVJrMcAwkmdcFcJ5FyDPp0",
      "include_colab_link": true
    },
    "kernelspec": {
      "name": "python3",
      "display_name": "Python 3"
    },
    "language_info": {
      "name": "python"
    }
  },
  "cells": [
    {
      "cell_type": "markdown",
      "metadata": {
        "id": "view-in-github",
        "colab_type": "text"
      },
      "source": [
        "<a href=\"https://colab.research.google.com/github/ZahibVentura/Interesante-y-practica/blob/main/Integral_por_Riemann.ipynb\" target=\"_parent\"><img src=\"https://colab.research.google.com/assets/colab-badge.svg\" alt=\"Open In Colab\"/></a>"
      ]
    },
    {
      "cell_type": "code",
      "execution_count": 5,
      "metadata": {
        "id": "B5YJSu6yDfku"
      },
      "outputs": [],
      "source": [
        "\n",
        "import sympy as sp"
      ]
    },
    {
      "cell_type": "code",
      "source": [
        "x = sp.Symbol('x')\n"
      ],
      "metadata": {
        "id": "ST2_pdYrEpyr"
      },
      "execution_count": 7,
      "outputs": []
    },
    {
      "cell_type": "code",
      "source": [
        "sp.simplify(x**3 )\n"
      ],
      "metadata": {
        "colab": {
          "base_uri": "https://localhost:8080/",
          "height": 39
        },
        "id": "tSnhkPByE5Uo",
        "outputId": "20b7a3b7-7da2-4728-a5cc-0d47d755ff9f"
      },
      "execution_count": 8,
      "outputs": [
        {
          "output_type": "execute_result",
          "data": {
            "text/plain": [
              "x**3"
            ],
            "text/latex": "$\\displaystyle x^{3}$"
          },
          "metadata": {},
          "execution_count": 8
        }
      ]
    },
    {
      "cell_type": "code",
      "source": [
        "a = 0\n",
        "b = 2\n",
        "n = 10000000\n",
        "\n",
        "suma = 0\n",
        "for i in range(n):\n",
        "  delta_x = (b-a)/n\n",
        "  if i == n-1:\n",
        "    f_x = (a + delta_x*i)**3\n",
        "  else:\n",
        "    f_x = (a + delta_x*(i+1))**3\n",
        "  suma += f_x*delta_x\n",
        "print(suma)"
      ],
      "metadata": {
        "colab": {
          "base_uri": "https://localhost:8080/"
        },
        "id": "r6vEFHCWFsQq",
        "outputId": "8f06bab3-b610-4bdb-fa48-820c8530ef45"
      },
      "execution_count": 9,
      "outputs": [
        {
          "output_type": "stream",
          "name": "stdout",
          "text": [
            "4.000000799999652\n"
          ]
        }
      ]
    }
  ]
}